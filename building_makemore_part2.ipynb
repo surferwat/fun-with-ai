{
 "cells": [
  {
   "cell_type": "code",
   "execution_count": 1,
   "id": "11a16ce6-2364-46e1-9ab0-d0a6ec9704df",
   "metadata": {},
   "outputs": [],
   "source": [
    "import torch\n",
    "import torch.nn.functional as F\n",
    "import matplotlib.pyplot as plt #for making figures\n",
    "%matplotlib inline"
   ]
  },
  {
   "cell_type": "code",
   "execution_count": 2,
   "id": "a558ab16-0aaf-4155-9ad1-5bc04e680c21",
   "metadata": {},
   "outputs": [
    {
     "data": {
      "text/plain": [
       "['emma', 'olivia', 'ava', 'isabella', 'sophia', 'charlotte', 'mia', 'amelia']"
      ]
     },
     "execution_count": 2,
     "metadata": {},
     "output_type": "execute_result"
    }
   ],
   "source": [
    "#read in all the words\n",
    "words = open('names.txt','r').read().splitlines()\n",
    "words[:8]"
   ]
  },
  {
   "cell_type": "code",
   "execution_count": 3,
   "id": "e1d95c43-0287-45e6-a3e0-494626e2628a",
   "metadata": {},
   "outputs": [
    {
     "data": {
      "text/plain": [
       "32033"
      ]
     },
     "execution_count": 3,
     "metadata": {},
     "output_type": "execute_result"
    }
   ],
   "source": [
    "len(words)"
   ]
  },
  {
   "cell_type": "code",
   "execution_count": 4,
   "id": "a544a8f8-be67-4339-bf5e-10a331086ad1",
   "metadata": {},
   "outputs": [
    {
     "name": "stdout",
     "output_type": "stream",
     "text": [
      "{1: 'a', 2: 'b', 3: 'c', 4: 'd', 5: 'e', 6: 'f', 7: 'g', 8: 'h', 9: 'i', 10: 'j', 11: 'k', 12: 'l', 13: 'm', 14: 'n', 15: 'o', 16: 'p', 17: 'q', 18: 'r', 19: 's', 20: 't', 21: 'u', 22: 'v', 23: 'w', 24: 'x', 25: 'y', 26: 'z', 0: '.'}\n"
     ]
    }
   ],
   "source": [
    "#build the vocabulary of characters and mappings to/from integers\n",
    "chars=sorted(list(set(''.join(words)))) #creates a sorted list of unique words\n",
    "stoi={s:i+1 for i,s in enumerate(chars)} #construct a dictionary where the char is the key and value is 1-based index\n",
    "stoi['.']=0 #assign 0 to the key, '.' \n",
    "itos={i:s for s,i in stoi.items()} #construct a dictionary where the 1-based index is the key and value is a char\n",
    "print(itos)"
   ]
  },
  {
   "cell_type": "code",
   "execution_count": 5,
   "id": "6e6eb3a3-3df5-4c82-921c-b630bf79b22a",
   "metadata": {},
   "outputs": [],
   "source": [
    "#build the dataset\n",
    "block_size=3 #context length: how many characters do we take to predict the next one?\n",
    "X,Y = [], [] #instantiate lists for inputs to the neural network,X, and target outputs, Y.\n",
    "for w in words:\n",
    "    #print(w)\n",
    "    context = [0] * block_size #assign a 1x3 list\n",
    "    for ch in w + '.': \n",
    "        ix = stoi[ch] #assign corresponding integer to ix\n",
    "        X.append(context) #append 1x3 list representing the input for the output ix to list X\n",
    "        Y.append(ix) #append ix representing the output for the input context to list Y\n",
    "        #print(''.join(itos[i] for i in context), '--->', itos[ix])\n",
    "        context = context[1:] + [ix] #crop context (i.e., slice left most col) and append ix\n",
    "X = torch.tensor(X) #convert list of lists to PyTorch tensor\n",
    "Y = torch.tensor(Y) #convert list of lists to PyTorch tensor"
   ]
  },
  {
   "cell_type": "code",
   "execution_count": 6,
   "id": "a0bd9837-1771-48d4-8d62-c5e6712e7969",
   "metadata": {},
   "outputs": [
    {
     "data": {
      "text/plain": [
       "(torch.Size([228146, 3]), torch.int64, torch.Size([228146]), torch.int64)"
      ]
     },
     "execution_count": 6,
     "metadata": {},
     "output_type": "execute_result"
    }
   ],
   "source": [
    "X.shape, X.dtype, Y.shape, Y.dtype"
   ]
  },
  {
   "cell_type": "code",
   "execution_count": 7,
   "id": "245c928b-1a05-4d05-a8ab-9e44e2f3d1bc",
   "metadata": {},
   "outputs": [
    {
     "name": "stdout",
     "output_type": "stream",
     "text": [
      "torch.Size([182625, 3]) torch.Size([182625])\n",
      "torch.Size([22655, 3]) torch.Size([22655])\n",
      "torch.Size([22866, 3]) torch.Size([22866])\n"
     ]
    }
   ],
   "source": [
    "#build the dataset (version 2)\n",
    "\n",
    "def build_dataset(words):\n",
    "    block_size=3 #context length: how many characters do we take to predict the next one?\n",
    "    X,Y = [], [] #instantiate lists for inputs to the neural network,X, and target outputs, Y.\n",
    "    for w in words:\n",
    "        #print(w)\n",
    "        context = [0] * block_size #create a 1x3 list\n",
    "        for ch in w + '.': \n",
    "            ix = stoi[ch] #assign corresponding integer to ix\n",
    "            X.append(context) #append 1x3 list representing the input for the output ix to list X\n",
    "            Y.append(ix) #append ix representing the output for the input context to list Y\n",
    "            #print(''.join(itos[i] for i in context), '--->', itos[ix])\n",
    "            context = context[1:] + [ix] #crop context (i.e., slice left most col) and append ix\n",
    "    X = torch.tensor(X) #convert list of lists to PyTorch tensor\n",
    "    Y = torch.tensor(Y) #convert list of lists to PyTorch tensor\n",
    "    print(X.shape, Y.shape)\n",
    "    return X, Y\n",
    "\n",
    "import random\n",
    "random.seed(42) #initialize the random number generator with seed value, 42 to ensure reproducibility of calls of random's functions\n",
    "random.shuffle(words) #randomly rearrange the words in words\n",
    "n1 = int(0.8*len(words)) #assign 80% of the characters in the dataset\n",
    "n2 = int(0.9*len(words)) #assign 90% of the characters in the dataset\n",
    "\n",
    "Xtr, Ytr = build_dataset(words[:n1]) #build training dataset using the first 80% of the characters in the original dataset\n",
    "Xdev, Ydev = build_dataset(words[n1:n2]) #build development dataset using the next 10% of the characters in the original dataset\n",
    "Xte, Yte = build_dataset(words[n2:]) #build test dataset using the remaining 10% of the characters in the original dataset\n",
    "    "
   ]
  },
  {
   "cell_type": "code",
   "execution_count": 8,
   "id": "aa574861-67d6-4678-a0a6-f54cf1cbe867",
   "metadata": {},
   "outputs": [],
   "source": [
    "C = torch.randn([27,2]) #assign to C a tensor filled with random numbers drawn from a normal distribution and with shape 27 rows, 2 cols"
   ]
  },
  {
   "cell_type": "code",
   "execution_count": 9,
   "id": "5323ba01-8fa1-4729-900f-b8b42b9276bd",
   "metadata": {},
   "outputs": [
    {
     "data": {
      "text/plain": [
       "torch.Size([228146, 3, 2])"
      ]
     },
     "execution_count": 9,
     "metadata": {},
     "output_type": "execute_result"
    }
   ],
   "source": [
    "emb = C[X] #create an embedding, emb, a new tensor that consists of the rows of C specified by the indices in X (e.g., [0,0,5] accesses row 0, 0, 5 of C\n",
    "emb.shape"
   ]
  },
  {
   "cell_type": "code",
   "execution_count": 10,
   "id": "a5f80e87-b8d9-48a5-9a82-6d463e3d838a",
   "metadata": {},
   "outputs": [],
   "source": [
    "W1 = torch.randn((6,100)) #weight matrix for a hidden layer with 2*3=6 inputs and 100 neurons\n",
    "b1 = torch.randn(100) #bias vector for the hidden layer with 100 neurons"
   ]
  },
  {
   "cell_type": "code",
   "execution_count": 11,
   "id": "e86cedf8-4c1d-4ddc-8c37-7ee743e06c9d",
   "metadata": {},
   "outputs": [],
   "source": [
    "h = torch.tanh(emb.view(-1,6) @ W1 + b1) #reshape emb into a 2D tensor with 6 columns, multiply it and the weight matrix, sum the result and the bias to allow for better learning and flexibility, and finally apply hyperbolic tangent activation function to the result"
   ]
  },
  {
   "cell_type": "code",
   "execution_count": 12,
   "id": "d6a14c48-3a3c-4032-b3f1-e9ec38acda59",
   "metadata": {},
   "outputs": [
    {
     "data": {
      "text/plain": [
       "torch.Size([228146, 100])"
      ]
     },
     "execution_count": 12,
     "metadata": {},
     "output_type": "execute_result"
    }
   ],
   "source": [
    "h.shape"
   ]
  },
  {
   "cell_type": "code",
   "execution_count": 13,
   "id": "43aeb4e0-f93e-4407-89ae-9f01a7c14ba0",
   "metadata": {},
   "outputs": [],
   "source": [
    "W2 = torch.randn((100,27)) #weight matrix for the final layer with 100 inputs and 27 neurons\n",
    "b2 = torch.randn(27) #bias vector for the final layer with 27 neurons"
   ]
  },
  {
   "cell_type": "code",
   "execution_count": 14,
   "id": "9957b57b-9bf2-4d74-8f31-d2b50b01bcc5",
   "metadata": {},
   "outputs": [],
   "source": [
    "logits = h @ W2 + b2 #compute the output of the final layer (i.e., the unnormalized scores output by a neural network priorto applying an activation function like softmax)"
   ]
  },
  {
   "cell_type": "code",
   "execution_count": 15,
   "id": "a2638e9b-ee3e-4d5d-9582-ee58ff54a300",
   "metadata": {},
   "outputs": [
    {
     "data": {
      "text/plain": [
       "torch.Size([228146, 27])"
      ]
     },
     "execution_count": 15,
     "metadata": {},
     "output_type": "execute_result"
    }
   ],
   "source": [
    "logits.shape"
   ]
  },
  {
   "cell_type": "code",
   "execution_count": 16,
   "id": "74362275-505e-4916-b9b3-e34a276f880f",
   "metadata": {},
   "outputs": [],
   "source": [
    "counts = logits.exp() #compute the exponential of each element so that they can be interpreted as counts or probabilities (a.k.a fake counts) since result be positive and differences more pronounced"
   ]
  },
  {
   "cell_type": "code",
   "execution_count": 17,
   "id": "448d898a-f993-4907-89d5-c1845005c417",
   "metadata": {},
   "outputs": [],
   "source": [
    "prob = counts / counts.sum(1, keepdims=True) #normalize the counts tensor to convert it into probabilities"
   ]
  },
  {
   "cell_type": "code",
   "execution_count": 18,
   "id": "b17ba7a0-fa7c-4527-8994-e0cdbb4622f3",
   "metadata": {},
   "outputs": [
    {
     "data": {
      "text/plain": [
       "torch.Size([228146, 27])"
      ]
     },
     "execution_count": 18,
     "metadata": {},
     "output_type": "execute_result"
    }
   ],
   "source": [
    "prob.shape"
   ]
  },
  {
   "cell_type": "code",
   "execution_count": 19,
   "id": "dc142cdb-e0eb-4aad-a562-af9ed13b5464",
   "metadata": {},
   "outputs": [
    {
     "data": {
      "text/plain": [
       "tensor(15.6798)"
      ]
     },
     "execution_count": 19,
     "metadata": {},
     "output_type": "execute_result"
    }
   ],
   "source": [
    "loss = -prob[torch.arange(228146), Y].log().mean() #negative log of the predicted probabilities of the true class/labels for the sample (i.e., the correct answers that the model is trying to predict)\n",
    "loss"
   ]
  },
  {
   "cell_type": "code",
   "execution_count": 20,
   "id": "4ba58f75-f0e6-4594-91a6-c9d8928f6082",
   "metadata": {},
   "outputs": [],
   "source": [
    "# ------------- new made respectable :) -------------"
   ]
  },
  {
   "cell_type": "code",
   "execution_count": 21,
   "id": "e4ffa668-be86-41a0-8085-1bba55dd1717",
   "metadata": {},
   "outputs": [
    {
     "data": {
      "text/plain": [
       "(torch.Size([182625, 3]), torch.Size([182625]))"
      ]
     },
     "execution_count": 21,
     "metadata": {},
     "output_type": "execute_result"
    }
   ],
   "source": [
    "Xtr.shape, Ytr.shape #dateset"
   ]
  },
  {
   "cell_type": "code",
   "execution_count": 22,
   "id": "8f842fa0-c6d8-46ce-897c-1885ae3e3103",
   "metadata": {},
   "outputs": [],
   "source": [
    "g = torch.Generator().manual_seed(2147483649) #for reproducibility\n",
    "C = torch.randn((27,10), generator=g) #assign to C a tensor filled with random numbers drawn from a normal distribution and with shape 27 rows, 10 cols\n",
    "W1 = torch.randn((30, 200), generator=g) #weight matrix for a hidden layer with 30 inputs and 200 neurons\n",
    "b1 = torch.randn(200, generator=g) #bias vector for the hidden layer with 200 neurons\n",
    "W2 = torch.randn((200, 27), generator=g) #weight matrix for the final layer with 200 inputs and 27 neurons\n",
    "b2 = torch.randn(27, generator=g) #bias vector for the final layer with 27 neurons\n",
    "parameters = [C,W1,b1,W2,b2] # list of all parameters (input tensor, weights, and biases) for the model"
   ]
  },
  {
   "cell_type": "code",
   "execution_count": 23,
   "id": "26a318d3-d9c5-4c91-8ba4-730f35c0d035",
   "metadata": {},
   "outputs": [
    {
     "data": {
      "text/plain": [
       "11897"
      ]
     },
     "execution_count": 23,
     "metadata": {},
     "output_type": "execute_result"
    }
   ],
   "source": [
    "sum(p.nelement() for p in parameters) #number of parameters in total"
   ]
  },
  {
   "cell_type": "code",
   "execution_count": 24,
   "id": "cf0843dc-5c23-4c0e-9438-04c7ba4782d1",
   "metadata": {},
   "outputs": [],
   "source": [
    "for p in parameters:\n",
    "    p.requires_grad = True #enable gradient tracking for these tensors, which is essential for backpropagation during training"
   ]
  },
  {
   "cell_type": "code",
   "execution_count": 25,
   "id": "73244475-650c-42a6-be42-33d5bb0e90af",
   "metadata": {},
   "outputs": [],
   "source": [
    "lre = torch.linspace(-3, 0, 1000) #create a tensor of 1000 evenly spaced values between -3 and 0\n",
    "lrs = 10**lre #raise each value in lre and raise 10 to the power of that value"
   ]
  },
  {
   "cell_type": "code",
   "execution_count": 26,
   "id": "c50969a6-2365-470c-b8b7-aa0051db1cb1",
   "metadata": {},
   "outputs": [],
   "source": [
    "#lri = []\n",
    "lossi = [] #instantiate list to track loss values during training\n",
    "stepi = [] #instatiate list to track training steps where one step represents each time the model processes a batch of training data and updates its parameters based on the computed gradients"
   ]
  },
  {
   "cell_type": "code",
   "execution_count": 27,
   "id": "0746e37e-45ac-456b-ae4a-a97b279ccd3c",
   "metadata": {},
   "outputs": [],
   "source": [
    "for i in range(200000):\n",
    "\n",
    "    #minibatch construct\n",
    "    ix = torch.randint(0, Xtr.shape[0], (32,)) #create a tensor containing 32 random indices to be used to sample rows from Xtr\n",
    "    \n",
    "    #forward pass\n",
    "    emb = C[Xtr[ix]] #create a (32,3,2) embedding, emb, a new tensor that consists of the rows of C specified by the indices in Xtr[ix]\n",
    "    h = torch.tanh(emb.view(-1,30) @ W1 + b1) #(32,100) #reshape emb into a 2D tensor with 30 columns, multiply it and the weight matrix, sum the result and the bias to allow for better learning and flexibility, and finally apply hyperbolic tangent activation function to the result\n",
    "    logits = h @ W2 + b2 #(32,27) #compute the output of the final layer (i.e., the unnormalized scores output by a neural network priorto applying an activation function like softmax)\n",
    "    #counts = logits.exp()\n",
    "    #prob = counts / counts.sum(1, keepdims=True)\n",
    "    #loss = -prob[torch.arange(32), Y].log().mean()\n",
    "    loss = F.cross_entropy(logits, Ytr[ix]) #negative log of the predicted probabilities of the true class/labels for the sample (i.e., the correct answers that the model is trying to predict)\n",
    "    #print(loss.item())\n",
    "\n",
    "    #backward pass\n",
    "    for p in parameters:\n",
    "        p.grad = None #clear the gradients of the parameter before performing a new optimization in order to avoid incorrect updates\n",
    "    loss.backward() #perform backpropagation\n",
    "    \n",
    "    #update\n",
    "    #lr = lrs[i]\n",
    "    lr = 0.1 if i < 100000 else 0.01\n",
    "    for p in parameters:\n",
    "        p.data += -lr * p.grad #update the parameter p using the calculated gradients where lr is what controls how much to change the parameter and the negative sign indicates a move in the direction opposite that of the gradient\n",
    "    \n",
    "    #track stats\n",
    "    #lri.append(lre)\n",
    "    stepi.append(i) #add current step to the list tracking training steps\n",
    "    lossi.append(loss.log10().item()) #add the log 10 of the current loss value\n",
    "\n",
    "#print(loss.item())"
   ]
  },
  {
   "cell_type": "code",
   "execution_count": 28,
   "id": "f074cb9c-c4a1-4365-879c-7bdba69c4b68",
   "metadata": {},
   "outputs": [
    {
     "data": {
      "text/plain": [
       "[<matplotlib.lines.Line2D at 0x117d333b0>]"
      ]
     },
     "execution_count": 28,
     "metadata": {},
     "output_type": "execute_result"
    },
    {
     "data": {
      "image/png": "[encoded data removed]",
      "text/plain": [
       "<Figure size 640x480 with 1 Axes>"
      ]
     },
     "metadata": {},
     "output_type": "display_data"
    }
   ],
   "source": [
    "plt.plot(stepi, lossi)"
   ]
  },
  {
   "cell_type": "code",
   "execution_count": 29,
   "id": "92b994ae-a138-4e54-a992-1b977950d271",
   "metadata": {},
   "outputs": [
    {
     "data": {
      "text/plain": [
       "tensor(2.1170, grad_fn=<NllLossBackward0>)"
      ]
     },
     "execution_count": 29,
     "metadata": {},
     "output_type": "execute_result"
    }
   ],
   "source": [
    "emb = C[Xtr] #(32, 3, 2)\n",
    "h = torch.tanh(emb.view(-1, 30) @ W1 + b1) #(32, 100)\n",
    "logits = h @ W2 + b2 #(32, 27)\n",
    "loss = F.cross_entropy(logits, Ytr)\n",
    "loss"
   ]
  },
  {
   "cell_type": "code",
   "execution_count": 30,
   "id": "9277ab1b-ece7-43d2-bb3e-c9702d3a70d9",
   "metadata": {},
   "outputs": [
    {
     "data": {
      "text/plain": [
       "tensor(2.1509, grad_fn=<NllLossBackward0>)"
      ]
     },
     "execution_count": 30,
     "metadata": {},
     "output_type": "execute_result"
    }
   ],
   "source": [
    "emb = C[Xdev] #(32, 3, 2)\n",
    "h = torch.tanh(emb.view(-1, 30) @ W1 + b1) #(32, 100)\n",
    "logits = h @ W2 + b2 #(32, 27)\n",
    "loss = F.cross_entropy(logits, Ydev)\n",
    "loss"
   ]
  },
  {
   "cell_type": "code",
   "execution_count": 31,
   "id": "b68a8356-3755-46a4-b4c6-136c6e0c1830",
   "metadata": {},
   "outputs": [
    {
     "data": {
      "image/png": "[encoded data removed]",
      "text/plain": [
       "<Figure size 800x800 with 1 Axes>"
      ]
     },
     "metadata": {},
     "output_type": "display_data"
    }
   ],
   "source": [
    "#visualize dimensions 0 and 1 of the embedding matrix C for all characters\n",
    "plt.figure(figsize=(8,8))\n",
    "plt.scatter(C[:,0].data, C[:,1].data, s=200)\n",
    "for i in range(C.shape[0]):\n",
    "    plt.text(C[i,0].item(), C[i,1].item(), itos[i], ha=\"center\", color='white')\n",
    "plt.grid('minor')"
   ]
  },
  {
   "cell_type": "code",
   "execution_count": 32,
   "id": "4d8c44c8-64ac-4700-a32f-28982e15423d",
   "metadata": {},
   "outputs": [],
   "source": [
    "#training split, dev/validation split, test split\n",
    "#80%, 10%, 10%\n"
   ]
  },
  {
   "cell_type": "code",
   "execution_count": 33,
   "id": "55d7e23a-8816-4faa-8778-cb7e3d2063d6",
   "metadata": {},
   "outputs": [
    {
     "name": "stdout",
     "output_type": "stream",
     "text": [
      "zahana.\n",
      "karikson.\n",
      "xaci.\n",
      "cerlee.\n",
      "wan.\n",
      "sha.\n",
      "keyah.\n",
      "tevulei.\n",
      "preyde.\n",
      "jata.\n",
      "uruan.\n",
      "briyah.\n",
      "josa.\n",
      "appi.\n",
      "avin.\n",
      "zakarleifin.\n",
      "rayne.\n",
      "tatalanaviod.\n",
      "maelah.\n",
      "anha.\n"
     ]
    }
   ],
   "source": [
    "#sample from the model\n",
    "g = torch.Generator().manual_seed(2147483649 + 10) #for reproducibility\n",
    "\n",
    "for _ in range(20):\n",
    "    out = [] #instantiate list to store sampled indices\n",
    "    context = [0] * block_size #initialize with all ...\n",
    "    while True:\n",
    "        emb = C[torch.tensor([context])] #(1,block_size,d)\n",
    "        h = torch.tanh(emb.view(1, -1) @ W1 + b1)\n",
    "        logits = h @ W2 + b2\n",
    "        probs = F.softmax(logits, dim=1) #apply the softmax function which will transform the raw scores (logits) into probabilities\n",
    "        ix = torch.multinomial(probs, num_samples=1, generator=g).item() #sample an index from the specified probability distribution\n",
    "        context = context[1:] + [ix] #crop context (i.e., slice left most col) and append ix\n",
    "        out.append(ix)\n",
    "        if ix == 0:\n",
    "            break\n",
    "\n",
    "    print(''.join(itos[i] for i in out))"
   ]
  },
  {
   "cell_type": "code",
   "execution_count": null,
   "id": "1e943b0a-7cc9-413a-8856-baa6740e9b6f",
   "metadata": {},
   "outputs": [],
   "source": []
  }
 ],
 "metadata": {
  "kernelspec": {
   "display_name": "Python 3 (ipykernel)",
   "language": "python",
   "name": "python3"
  },
  "language_info": {
   "codemirror_mode": {
    "name": "ipython",
    "version": 3
   },
   "file_extension": ".py",
   "mimetype": "text/x-python",
   "name": "python",
   "nbconvert_exporter": "python",
   "pygments_lexer": "ipython3",
   "version": "3.12.7"
  }
 },
 "nbformat": 4,
 "nbformat_minor": 5
}
